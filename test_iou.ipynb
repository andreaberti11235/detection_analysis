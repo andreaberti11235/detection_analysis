{
 "cells": [
  {
   "cell_type": "code",
   "execution_count": 1,
   "metadata": {},
   "outputs": [],
   "source": [
    "import os\n",
    "import argparse\n",
    "from datetime import datetime\n",
    "import glob\n",
    "import numpy as np\n",
    "from numpy import linalg\n",
    "from matplotlib import pyplot as plt\n",
    "import pandas as pd"
   ]
  },
  {
   "cell_type": "code",
   "execution_count": 35,
   "metadata": {},
   "outputs": [],
   "source": [
    "iou_threshold = 0.2"
   ]
  },
  {
   "cell_type": "code",
   "execution_count": 2,
   "metadata": {},
   "outputs": [],
   "source": [
    "def iou(x1, y1, w1, h1, x2, y2, w2, h2):\n",
    "  # convert the coordinates to the top-left and bottom-right corners\n",
    "  x1_1 = x1 - w1 / 2\n",
    "  y1_1 = y1 - h1 / 2\n",
    "  x1_2 = x1 + w1 / 2\n",
    "  y1_2 = y1 + h1 / 2\n",
    "  x2_1 = x2 - w2 / 2\n",
    "  y2_1 = y2 - h2 / 2\n",
    "  x2_2 = x2 + w2 / 2\n",
    "  y2_2 = y2 + h2 / 2\n",
    "\n",
    "  # compute the area of the bounding boxes\n",
    "  area1 = w1 * h1\n",
    "  area2 = w2 * h2\n",
    "\n",
    "  # compute the intersection area\n",
    "  xi1 = max(x1_1, x2_1)\n",
    "  yi1 = max(y1_1, y2_1)\n",
    "  xi2 = min(x1_2, x2_2)\n",
    "  yi2 = min(y1_2, y2_2)\n",
    "  inter_area = max(xi2 - xi1, 0) * max(yi2 - yi1, 0)\n",
    "\n",
    "  # compute the union area\n",
    "  union_area = area1 + area2 - inter_area\n",
    "\n",
    "  # compute the IoU\n",
    "  iou = inter_area / union_area\n",
    "\n",
    "  return iou"
   ]
  },
  {
   "cell_type": "code",
   "execution_count": 36,
   "metadata": {},
   "outputs": [],
   "source": [
    "gt_txt = '/Users/andreaberti/Documents/work/DBT/test_inference/valid/labels_gt/DBT-P01839_DBT-S03748_lcc_mass0_slice18.txt'\n",
    "pred_txt = '/Users/andreaberti/Documents/work/DBT/test_inference/valid/labels_detection/DBT-P01839_DBT-S03748_lcc_mass0_slice18.txt'"
   ]
  },
  {
   "cell_type": "code",
   "execution_count": 37,
   "metadata": {},
   "outputs": [],
   "source": [
    "gt_df = pd.read_csv(gt_txt, sep=' ', header=None)\n",
    "\n",
    "gt_list = []\n",
    "pred_list = []"
   ]
  },
  {
   "cell_type": "code",
   "execution_count": 38,
   "metadata": {},
   "outputs": [],
   "source": [
    "for idx in gt_df.index:\n",
    "            x_center = gt_df.iloc[idx][1]\n",
    "            y_center = gt_df.iloc[idx][2]\n",
    "            width = gt_df.iloc[idx][3]\n",
    "            height = gt_df.iloc[idx][4]\n",
    "\n",
    "            gt_element = [x_center, y_center, width, height]\n",
    "            gt_list.append(gt_element) # è una lista di liste, ciascuna delle quali contiene gli elementi di un bbox\n"
   ]
  },
  {
   "cell_type": "code",
   "execution_count": 46,
   "metadata": {},
   "outputs": [],
   "source": [
    "found_masses = np.zeros(shape=len(gt_list))"
   ]
  },
  {
   "cell_type": "code",
   "execution_count": 40,
   "metadata": {},
   "outputs": [],
   "source": [
    "pred_df = pd.read_csv(pred_txt, sep=' ', header=None)\n",
    "\n",
    "\n",
    "for idx in pred_df.index:\n",
    "    x_center = pred_df.iloc[idx][1]\n",
    "    y_center = pred_df.iloc[idx][2]\n",
    "    width = pred_df.iloc[idx][3]\n",
    "    height = pred_df.iloc[idx][4]\n",
    "    confidence = pred_df.iloc[idx][5]\n",
    "\n",
    "    pred_element = [x_center, y_center, width, height, confidence]\n",
    "    pred_list.append(pred_element)\n"
   ]
  },
  {
   "cell_type": "code",
   "execution_count": 41,
   "metadata": {},
   "outputs": [
    {
     "data": {
      "text/plain": [
       "[[0.7840681362725451,\n",
       "  0.4334554334554334,\n",
       "  0.1703406813627254,\n",
       "  0.2332112332112332]]"
      ]
     },
     "execution_count": 41,
     "metadata": {},
     "output_type": "execute_result"
    }
   ],
   "source": [
    "gt_list"
   ]
  },
  {
   "cell_type": "code",
   "execution_count": 42,
   "metadata": {},
   "outputs": [
    {
     "data": {
      "text/plain": [
       "[[0.720942, 0.330484, 0.0551102, 0.03663, 0.103345],\n",
       " [0.785321, 0.399064, 0.0736473, 0.0630851, 0.107638]]"
      ]
     },
     "execution_count": 42,
     "metadata": {},
     "output_type": "execute_result"
    }
   ],
   "source": [
    "pred_list"
   ]
  },
  {
   "cell_type": "code",
   "execution_count": 47,
   "metadata": {},
   "outputs": [],
   "source": [
    "for detection in pred_list:\n",
    "    distances = []\n",
    "    # per ogni elemento trovato, inizializzo una lista, \n",
    "    # poi guardo quanto dista da tutti i bbox della gt e appendo alla lista\n",
    "    for bbox in gt_list:\n",
    "        pred_xy = np.array(detection[0:2])\n",
    "        gt_xy = np.array(bbox[0:2])\n",
    "\n",
    "        distance = linalg.norm(pred_xy - gt_xy)\n",
    "        distances.append(distance)\n",
    "\n",
    "    # trovo a quale massa GT sta più vicino e per quella calcolo la IOU\n",
    "    closest_item = np.argmin(distances)\n",
    "    gt_values = gt_list[closest_item]\n",
    "    iou_value = iou(x1=detection[0], y1=detection[1], w1=detection[2], h1=detection[3],\n",
    "                    x2=gt_values[0], y2=gt_values[1], w2=gt_values[2], h2=gt_values[3])\n",
    "\n",
    "    # se la IOU è minore di una certa soglia, le considero come coincidenti\n",
    "    if iou_value >= iou_threshold:\n",
    "        # print(f'è un vero Vero Positivo, massa più vicina riga {closest_item}')\n",
    "        found_masses[closest_item] = 1"
   ]
  },
  {
   "cell_type": "code",
   "execution_count": 44,
   "metadata": {},
   "outputs": [],
   "source": [
    "detection = pred_list[1]\n",
    "distances = []\n",
    "# per ogni elemento trovato, inizializzo una lista, \n",
    "# poi guardo quanto dista da tutti i bbox della gt e appendo alla lista\n",
    "for bbox in gt_list:\n",
    "    pred_xy = np.array(detection[0:2])\n",
    "    gt_xy = np.array(bbox[0:2])\n",
    "\n",
    "    distance = linalg.norm(pred_xy - gt_xy)\n",
    "    distances.append(distance)\n",
    "\n",
    "# trovo a quale massa GT sta più vicino e per quella calcolo la IOU\n",
    "closest_item = np.argmin(distances)\n",
    "gt_values = gt_list[closest_item]\n",
    "iou_value = iou(x1=detection[0], y1=detection[1], w1=detection[2], h1=detection[3],\n",
    "                x2=gt_values[0], y2=gt_values[1], w2=gt_values[2], h2=gt_values[3])\n",
    "\n",
    "# se la IOU è minore di una certa soglia, le considero come coincidenti\n",
    "if iou_value >= iou_threshold:\n",
    "    # print(f'è un vero Vero Positivo, massa più vicina riga {closest_item}')\n",
    "    found_masses[closest_item] = 1"
   ]
  },
  {
   "cell_type": "code",
   "execution_count": 48,
   "metadata": {},
   "outputs": [
    {
     "data": {
      "text/plain": [
       "array([0.])"
      ]
     },
     "execution_count": 48,
     "metadata": {},
     "output_type": "execute_result"
    }
   ],
   "source": [
    "found_masses"
   ]
  },
  {
   "cell_type": "code",
   "execution_count": null,
   "metadata": {},
   "outputs": [],
   "source": []
  }
 ],
 "metadata": {
  "kernelspec": {
   "display_name": "DBT_dataset",
   "language": "python",
   "name": "python3"
  },
  "language_info": {
   "codemirror_mode": {
    "name": "ipython",
    "version": 3
   },
   "file_extension": ".py",
   "mimetype": "text/x-python",
   "name": "python",
   "nbconvert_exporter": "python",
   "pygments_lexer": "ipython3",
   "version": "3.9.16"
  }
 },
 "nbformat": 4,
 "nbformat_minor": 2
}
